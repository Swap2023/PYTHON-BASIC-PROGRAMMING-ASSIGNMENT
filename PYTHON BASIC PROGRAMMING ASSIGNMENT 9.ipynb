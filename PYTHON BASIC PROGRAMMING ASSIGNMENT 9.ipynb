{
 "cells": [
  {
   "cell_type": "markdown",
   "id": "93a21cdf",
   "metadata": {},
   "source": [
    "1. What is the role of the 'else' block in a try-except statement? Provide an example\n",
    "scenario where it would be useful.\n",
    "2. Can a try-except block be nested inside another try-except block? Explain with an\n",
    "example.\n",
    "3. How can you create a custom exception class in Python? Provide an example that\n",
    "demonstrates its usage.\n",
    "4. What are some common exceptions that are built-in to Python?\n",
    "5. What is logging in Python, and why is it important in software development?\n",
    "6. Explain the purpose of log levels in Python logging and provide examples of when\n",
    "each log level would be appropriate.\n",
    "7. What are log formatters in Python logging, and how can you customise the log\n",
    "message format using formatters?\n",
    "8. How can you set up logging to capture log messages from multiple modules or\n",
    "classes in a Python application?\n",
    "9. What is the difference between the logging and print statements in Python? When\n",
    "should you use logging over print statements in a real-world application?\n",
    "10. Write a Python program that logs a message to a file named \"app.log\" with the\n",
    "following requirements:\n",
    "● The log message should be \"Hello, World!\"\n",
    "● The log level should be set to \"INFO.\"\n",
    "● The log file should append new log entries without overwriting previous ones.\n",
    "11. Create a Python program that logs an error message to the console and a file named\n",
    "\"errors.log\" if an exception occurs during the program's execution. The error\n",
    "message should include the exception type and a timestamp."
   ]
  },
  {
   "cell_type": "markdown",
   "id": "65b3f7b6",
   "metadata": {},
   "source": [
    "Ans 1\n",
    "#In a try-except statement in Python, the else block is executed if no exceptions are raised within the try block. \n",
    "Its purpose is to provide code that should only run if the code in the try block executes successfully, without any exceptions\n",
    "being raised.\n",
    "\n"
   ]
  },
  {
   "cell_type": "code",
   "execution_count": 1,
   "id": "8f90b8ea",
   "metadata": {},
   "outputs": [
    {
     "name": "stdout",
     "output_type": "stream",
     "text": [
      "Please enter an integer: 24\n",
      "Result of computation: 48\n"
     ]
    }
   ],
   "source": [
    "def perform_computation():\n",
    "    try:\n",
    "        user_input = int(input(\"Please enter an integer: \"))\n",
    "    except ValueError:\n",
    "        print(\"Invalid input. Using default value.\")\n",
    "        user_input = 0  # Use default value\n",
    "    else:\n",
    "        # Additional operations if input is valid\n",
    "        result = user_input * 2\n",
    "        print(\"Result of computation:\", result)\n",
    "\n",
    "perform_computation()\n"
   ]
  },
  {
   "cell_type": "markdown",
   "id": "961f55b5",
   "metadata": {},
   "source": [
    "In this example:\n",
    "\n",
    "If the user enters a valid integer, the code within the else block will execute, performing additional computations on the input.\n",
    "If the user enters something that can't be converted to an integer (causing a ValueError), the except block will catch the exception and handle it by providing a default value.\n",
    "Without the else block, the additional computations would be performed even if the user input couldn't be converted to an integer, which might lead to unexpected behavior or errors."
   ]
  },
  {
   "cell_type": "markdown",
   "id": "5ff2bc75",
   "metadata": {},
   "source": [
    "Ans 2:Yes, a try-except block can indeed be nested inside another try-except block. \n",
    "This is useful for handling different levels of exceptions at different levels of your code."
   ]
  },
  {
   "cell_type": "code",
   "execution_count": 2,
   "id": "e5ab100c",
   "metadata": {},
   "outputs": [
    {
     "name": "stdout",
     "output_type": "stream",
     "text": [
      "Enter the numerator: 24\n",
      "Enter the denominator: 3\n",
      "Square root of the result: 2.8284271247461903\n",
      "Inner try-except block executed.\n"
     ]
    }
   ],
   "source": [
    "def division_example():\n",
    "    try:\n",
    "        numerator = int(input(\"Enter the numerator: \"))\n",
    "        denominator = int(input(\"Enter the denominator: \"))\n",
    "        result = numerator / denominator\n",
    "    except ValueError:\n",
    "        print(\"Please enter valid integers.\")\n",
    "    except ZeroDivisionError:\n",
    "        print(\"Cannot divide by zero.\")\n",
    "    else:\n",
    "        try:\n",
    "            square_root = result ** 0.5\n",
    "            print(\"Square root of the result:\", square_root)\n",
    "        except ValueError:\n",
    "            print(\"Cannot calculate square root of negative number.\")\n",
    "        except TypeError:\n",
    "            print(\"Square root operation failed due to incorrect type.\")\n",
    "        except Exception as e:\n",
    "            print(\"An error occurred while calculating square root:\", e)\n",
    "        finally:\n",
    "            print(\"Inner try-except block executed.\")\n",
    "\n",
    "division_example()\n"
   ]
  },
  {
   "cell_type": "markdown",
   "id": "ddf6afb6",
   "metadata": {},
   "source": [
    "In this example:\n",
    "\n",
    "The outer try-except block handles exceptions related to the division operation, such as ValueError (if the user enters non-integer values) and ZeroDivisionError (if the user tries to divide by zero).\n",
    "Inside the else block of the outer try-except block, there is another nested try-except block. This inner try-except block handles exceptions that might occur during the calculation of the square root of the result.\n",
    "If any exception occurs within the inner try-except block, it will be caught and appropriate error messages will be displayed.\n",
    "The finally block within the inner try-except block will always execute regardless of whether an exception occurs or not within the inner block.\n",
    "\n"
   ]
  },
  {
   "cell_type": "markdown",
   "id": "b2f2cc0c",
   "metadata": {},
   "source": [
    "Ans 3:\n",
    "In Python, you can create custom exception classes by subclassing the built-in Exception class or any other built-in exception class.\n",
    "Here's an example demonstrating how to create a custom exception class and how to use it:"
   ]
  },
  {
   "cell_type": "code",
   "execution_count": 4,
   "id": "83c54ed6",
   "metadata": {},
   "outputs": [
    {
     "name": "stdout",
     "output_type": "stream",
     "text": [
      "Enter a positive number: 64\n",
      "Processing positive number: 64\n"
     ]
    }
   ],
   "source": [
    "class NegativeNumberError(Exception):\n",
    "    \"\"\"Custom exception for handling negative numbers.\"\"\"\n",
    "\n",
    "    def __init__(self, number):\n",
    "        self.number = number\n",
    "\n",
    "    def __str__(self):\n",
    "        return f\"Error: Negative number {self.number} is not allowed.\"\n",
    "\n",
    "\n",
    "def process_positive_number(num):\n",
    "    if num < 0:\n",
    "        raise NegativeNumberError(num)\n",
    "    else:\n",
    "        print(\"Processing positive number:\", num)\n",
    "\n",
    "\n",
    "# Example usage\n",
    "try:\n",
    "    num = int(input(\"Enter a positive number: \"))\n",
    "    process_positive_number(num)\n",
    "except NegativeNumberError as e:\n",
    "    print(e)\n",
    "except ValueError:\n",
    "    print(\"Invalid input. Please enter a valid integer.\")\n"
   ]
  },
  {
   "cell_type": "markdown",
   "id": "0186f307",
   "metadata": {},
   "source": [
    "n this example:\n",
    "\n",
    "We define a custom exception class called NegativeNumberError that inherits from the built-in Exception class.\n",
    "The NegativeNumberError class has an __init__ method to initialize the exception object with the negative number that caused the error.\n",
    "We override the __str__ method to customize the error message that will be displayed when the exception is raised.\n",
    "The process_positive_number function checks if the provided number is negative. If it's negative, it raises a NegativeNumberError exception.\n",
    "In the main part of the code, we use a try-except block to catch the NegativeNumberError exception and display a custom error message.\n",
    "We also catch ValueError exceptions in case the user enters a non-integer input."
   ]
  },
  {
   "cell_type": "markdown",
   "id": "a6eb9af6",
   "metadata": {},
   "source": [
    "Ans 4:\n",
    "SyntaxError: Raised when the Python parser encounters a syntax error in the code.\n",
    "IndentationError: Raised when there is incorrect indentation in the code.\n",
    "NameError: Raised when a local or global name is not found.\n",
    "TypeError: Raised when an operation or function is applied to an object of an inappropriate type.\n",
    "ValueError: Raised when a function receives an argument of the correct type but with an inappropriate value.\n",
    "ZeroDivisionError: Raised when division or modulo by zero is encountered.\n",
    "IndexError: Raised when a sequence subscript is out of range.\n",
    "KeyError: Raised when a dictionary key is not found.\n",
    "FileNotFoundError: Raised when a file or directory is requested but cannot be found.\n",
    "IOError: Raised when an I/O operation fails.\n",
    "AttributeError: Raised when an attribute reference or assignment fails.\n",
    "ImportError: Raised when an import statement fails to find the module or name being imported.\n",
    "RuntimeError: Raised when an error is detected that doesn't fall into any of the other categories.\n",
    "OverflowError: Raised when the result of an arithmetic operation is too large to be represented."
   ]
  },
  {
   "cell_type": "markdown",
   "id": "83599e61",
   "metadata": {},
   "source": [
    "Ans 5: \n",
    "Debugging: Logging is a valuable tool for debugging code. Developers can insert log messages at various points in their code to track the flow of execution and monitor the values of variables. By examining these log messages, developers can identify and diagnose issues more effectively.\n",
    "\n",
    "Error Tracking: Logging helps in tracking errors and exceptions that occur during the execution of a program. When an error occurs, logging allows developers to capture relevant information, such as the error message, stack trace, and context, which can be invaluable for troubleshooting and fixing bugs.\n",
    "\n",
    "Monitoring: Logging enables developers to monitor the behavior and performance of their applications in real-time. By logging important events, such as application startup, shutdown, and critical operations, developers can gain insights into how their application is performing and identify any potential bottlenecks or issues.\n",
    "\n",
    "Auditing and Compliance: Logging provides a record of important events and actions taken within an application. This audit trail can be useful for compliance purposes, such as ensuring that security protocols are followed, tracking user actions, and maintaining accountability.\n",
    "\n",
    "Security: Logging can be an essential component of an application's security infrastructure. By logging security-related events, such as login attempts, access control decisions, and suspicious activities, developers can detect and respond to security threats more effectively.\n",
    "\n",
    "Historical Analysis: Logging facilitates historical analysis by providing a historical record of events and activities within an application. Developers can analyze log data over time to identify trends, patterns, and anomalies, which can inform decision-making and help improve the overall performance and reliability of the application."
   ]
  },
  {
   "cell_type": "markdown",
   "id": "96b78777",
   "metadata": {},
   "source": [
    "Ans 6:DEBUG: Detailed information, typically used for debugging purposes. These messages are usually only relevant during development and debugging and may contain sensitive information that should not be logged in production.\n",
    "\n",
    "INFO: General information about the application's operation. These messages provide a high-level overview of the application's behavior and are typically used to track the flow of execution and important events.\n",
    "\n",
    "WARNING: Indicates a potential issue or problem that does not prevent the application from functioning but may require attention. These messages are used to highlight situations that could lead to errors or unexpected behavior if left unaddressed.\n",
    "\n",
    "ERROR: Indicates a serious error or problem that has occurred within the application. These messages typically indicate that the application cannot continue operating as expected and may result in data loss or other adverse effects.\n",
    "\n",
    "CRITICAL: Indicates a critical error or problem that requires immediate attention. These messages typically indicate that the application is in an unstable or unrecoverable state and may lead to system failures or other catastrophic consequences.\n",
    "\n",
    "Each log level serves a specific purpose and is appropriate in different situations. Here are examples of when each log level would be appropriate:\n",
    "\n",
    "DEBUG: Use the DEBUG log level to log detailed information about the internal state of the application, variable values, or the flow of execution during development and debugging. For example, logging the values of variables inside a loop to track their changes and identify potential issues.\n",
    "\n",
    "INFO: Use the INFO log level to log general information about the application's operation, such as startup/shutdown messages, configuration settings, or major milestones reached during execution. For example, logging the start and end of a data processing task or the successful completion of a critical operation.\n",
    "\n",
    "WARNING: Use the WARNING log level to log potential issues or problems that do not prevent the application from functioning but may require attention. For example, logging warnings about deprecated features, potential performance bottlenecks, or non-critical configuration issues.\n",
    "\n",
    "ERROR: Use the ERROR log level to log serious errors or problems that have occurred within the application. For example, logging errors related to failed database connections, file I/O errors, or unexpected exceptions that may indicate a bug or logic error in the code.\n",
    "\n",
    "CRITICAL: Use the CRITICAL log level to log critical errors or problems that require immediate attention. For example, logging critical errors that could lead to data loss, system failures, or security breaches, such as a database corruption or a server outage.\n",
    "\n",
    "By using appropriate log levels, developers can effectively manage and prioritize log outp"
   ]
  },
  {
   "cell_type": "markdown",
   "id": "0bd418d3",
   "metadata": {},
   "source": [
    "Ans 7:\n",
    "\n",
    "Creating a Formatter: To create a log formatter, you instantiate a formatter class provided by the logging module, such as logging.Formatter. You can specify the desired log message format using a formatting string containing placeholders for various attributes like timestamp, log level, message, etc.\n",
    "\n",
    "Customizing Log Message Format: You can customize the log message format by specifying a formatting string when creating the formatter object. This formatting string can include placeholders surrounded by curly braces {} to represent attributes of the log record. These placeholders are replaced with actual values when formatting log messages.\n",
    "\n",
    "Applying the Formatter: Once you've created a log formatter, you associate it with one or more handlers using the setFormatter() method. Handlers are responsible for directing log messages to specific output destinations, such as the console, files, or network sockets. By setting the formatter for a handler, you specify how log messages should be formatted before being written to the associated output stream."
   ]
  },
  {
   "cell_type": "code",
   "execution_count": 6,
   "id": "1d0390ea",
   "metadata": {},
   "outputs": [],
   "source": [
    "import logging\n",
    "\n",
    "# Create a custom log formatter\n",
    "formatter = logging.Formatter('%(asctime)s - %(name)s - %(levelname)s - %(message)s')\n",
    "\n",
    "# Create a file handler and associate the formatter with it\n",
    "file_handler = logging.FileHandler('app.log')\n",
    "file_handler.setFormatter(formatter)\n",
    "\n",
    "# Create a logger and add the file handler to it\n",
    "logger = logging.getLogger('custom_logger')\n",
    "logger.addHandler(file_handler)\n",
    "\n",
    "# Set the log level to INFO\n",
    "logger.setLevel(logging.INFO)\n",
    "\n",
    "# Log some messages\n",
    "logger.debug('This is a debug message')\n",
    "logger.info('This is an info message')\n",
    "logger.warning('This is a warning message')\n",
    "logger.error('This is an error message')\n",
    "logger.critical('This is a critical message')\n"
   ]
  },
  {
   "cell_type": "markdown",
   "id": "eaca798e",
   "metadata": {},
   "source": [
    "In this example:\n",
    "\n",
    "We create a custom log formatter using the logging.Formatter class, specifying a formatting string that includes placeholders for the timestamp (asctime), logger name (name), log level (levelname), and log message (message).\n",
    "We create a file handler (FileHandler) and associate the custom formatter with it using the setFormatter() method.\n",
    "We create a logger named 'custom_logger' and add the file handler to it.\n",
    "We set the log level of the logger to INFO.\n",
    "Finally, we log messages at different log levels using the logger.\n",
    "The resulting log messages will be formatted according to the specified format string and written to the app.log file by the file handler."
   ]
  },
  {
   "cell_type": "markdown",
   "id": "1e682c55",
   "metadata": {},
   "source": [
    "Ans 8: Create a Logger: Create a logger object using the logging.getLogger() function. Give the logger a name that identifies your application or a specific component within your application.\n",
    "\n",
    "Set Log Level: Optionally, set the log level for the logger using the setLevel() method. This determines the minimum severity level of log messages that will be processed by the logger.\n",
    "\n",
    "Create Handlers: Create one or more handlers to specify where log messages should be sent. You can create handlers for different output destinations, such as the console, files, or network sockets.\n",
    "\n",
    "Set Formatters: Optionally, create formatter objects to customize the format of log messages. Associate the formatters with the handlers using the setFormatter() method.\n",
    "\n",
    "Add Handlers to Logger: Add the handlers to the logger using the addHandler() method. This associates the handlers with the logger so that log messages generated by the logger (or its child loggers) are processed by the handlers.\n",
    "\n",
    "Use the Logger: Throughout your application, use the logger to log messages by calling its debug(), info(), warning(), error(), or critical() methods. Include relevant information in the log messages to aid in debugging and troubleshooting."
   ]
  },
  {
   "cell_type": "code",
   "execution_count": 9,
   "id": "dc86014d",
   "metadata": {},
   "outputs": [],
   "source": [
    "import logging\n",
    "\n",
    "# Create a logger with a unique name\n",
    "logger = logging.getLogger('my_application')\n",
    "\n",
    "# Set the log level to INFO\n",
    "logger.setLevel(logging.INFO)\n",
    "\n",
    "# Create a file handler\n",
    "file_handler = logging.FileHandler('app.log')\n",
    "\n",
    "# Create a formatter and associate it with the file handler\n",
    "formatter = logging.Formatter('%(asctime)s - %(name)s - %(levelname)s - %(message)s')\n",
    "file_handler.setFormatter(formatter)\n",
    "\n",
    "# Add the file handler to the logger\n",
    "logger.addHandler(file_handler)\n",
    "\n",
    "# Log messages from multiple modules or classes\n",
    "logger.info('This is an info message from module A')\n",
    "logger.warning('This is a warning message from module B')\n",
    "logger.error('This is an error message from class C')\n"
   ]
  },
  {
   "cell_type": "markdown",
   "id": "435fd925",
   "metadata": {},
   "source": [
    "In this example:\n",
    "\n",
    "We create a logger named 'my_application' using logging.getLogger('my_application').\n",
    "We set the log level of the logger to INFO using logger.setLevel(logging.INFO).\n",
    "We create a file handler (FileHandler) and associate it with a file named 'app.log'.\n",
    "We create a formatter that specifies the format of log messages and associate it with the file handler.\n",
    "We add the file handler to the logger using logger.addHandler(file_handler).\n",
    "We log messages at different log levels using the logger (logger.info(), logger.warning(), logger.error())."
   ]
  },
  {
   "cell_type": "markdown",
   "id": "0520f4ec",
   "metadata": {},
   "source": [
    "Ans 9:Logging: The primary purpose of the logging module is to record events, errors, and other relevant information during the execution of a program. It provides a structured way to manage and track log messages, making it easier to debug issues, monitor the application's behavior, and maintain a record of important events.\n",
    "Print Statements: Print statements are primarily used for debugging and displaying output to the console. They are simple and straightforward but lack the features and capabilities of a logging framework, such as log levels, formatting, and output redirection.\n",
    "Features:\n",
    "\n",
    "Logging: The logging module offers a range of features, including log levels (DEBUG, INFO, WARNING, ERROR, CRITICAL), log formatting, handlers for directing log output to various destinations (e.g., console, files, network sockets), and support for logging from multiple modules or classes within an application.\n",
    "Print Statements: Print statements are basic and provide limited functionality. They can only output text to the console and do not support features like log levels, formatting, or redirection of output.\n",
    "Flexibility:\n",
    "\n",
    "Logging: The logging module is more flexible and configurable. Developers can customize the log message format, specify different log levels for different parts of the application, and redirect log output to multiple destinations simultaneously.\n",
    "Print Statements: Print statements are less flexible and offer limited customization options. Once a print statement is added to the code, it will always output text to the console at the point where it is called.\n",
    "Output:\n",
    "\n",
    "Logging: Log messages generated by the logging module can be directed to various output destinations, such as the console, files, network sockets, or external logging services. This allows for centralized logging and monitoring of applications deployed in different environments.\n",
    "Print Statements: Print statements output text directly to the console and cannot be easily redirected or captured for further processing or analysis.\n",
    "In a real-world application, you should generally use logging over print statements for the following reasons:\n",
    "\n",
    "Better Debugging: Logging provides a more structured and comprehensive approach to debugging by allowing you to categorize and track log messages based on their severity or importance (e.g., DEBUG, INFO, ERROR).\n",
    "Production Readiness: Logging is more suitable for production environments where applications may run unattended and require robust error handling, monitoring, and logging capabilities.\n",
    "Flexibility and Configurability: Logging offers greater flexibility and configurability, allowing you to customize log message formats, specify different log levels for different parts of the application, and redirect log output to various destinations.\n",
    "Centralized Logging: Logging facilitates centralized logging and monitoring of applications deployed in distributed environments by allowing you to aggregate and analyze log data from multiple sources.\n",
    "Security and Compliance: Logging supports features such as log encryption, access control, and audit trails, making it more suitable for security-sensitive applications or environments that require compliance with regulatory requirements."
   ]
  },
  {
   "cell_type": "code",
   "execution_count": null,
   "id": "9dc9d1cc",
   "metadata": {},
   "outputs": [],
   "source": [
    "Ans 10:"
   ]
  },
  {
   "cell_type": "code",
   "execution_count": 10,
   "id": "9a7049a9",
   "metadata": {},
   "outputs": [],
   "source": [
    "import logging\n",
    "\n",
    "# Configure logging\n",
    "logging.basicConfig(filename='app.log', level=logging.INFO, format='%(asctime)s - %(levelname)s - %(message)s')\n",
    "\n",
    "# Log the message\n",
    "logging.info('Hello, World!')\n"
   ]
  },
  {
   "cell_type": "markdown",
   "id": "d338d148",
   "metadata": {},
   "source": [
    "In this program:\n",
    "\n",
    "We import the logging module, which provides the functionality for logging messages.\n",
    "We configure logging using basicConfig(), where we specify the log file name (filename='app.log'), the log level (level=logging.INFO), and the log message format (format='%(asctime)s - %(levelname)s - %(message)s').\n",
    "We log the message \"Hello, World!\" at the INFO log level using logging.info(). This message will be written to the specified log file (app.log) with the timestamp, log level, and the message itself.\n",
    "The program will append new log entries to the \"app.log\" file without overwriting previous ones because the basicConfig() function is only called once, and subsequent log messages will be appended to the same file."
   ]
  },
  {
   "cell_type": "code",
   "execution_count": 12,
   "id": "db1c9434",
   "metadata": {},
   "outputs": [],
   "source": [
    "import logging\n",
    "import traceback\n",
    "from datetime import datetime\n",
    "\n",
    "def main():\n",
    "    try:\n",
    "        # Your main program logic goes here\n",
    "        # For demonstration purposes, we'll intentionally raise an exception\n",
    "        raise Exception(\"An error occurred\")\n",
    "    except Exception as e:\n",
    "        # Log the exception\n",
    "        log_exception(e)\n",
    "\n",
    "def log_exception(exception):\n",
    "    # Configure logging\n",
    "    logging.basicConfig(filename='errors.log', level=logging.ERROR, format='%(asctime)s - %(levelname)s - %(message)s')\n",
    "\n",
    "    # Log the exception to the console\n",
    "    logging.error(f\"Exception: {exception.__class__.__name__}, Timestamp: {datetime.now()}\")\n",
    "    \n",
    "    # Log the exception to the file\n",
    "    logging.exception(f\"Exception: {exception.__class__.__name__}, Timestamp: {datetime.now()}\")\n",
    "\n",
    "if __name__ == \"__main__\":\n",
    "    main()\n"
   ]
  },
  {
   "cell_type": "markdown",
   "id": "0485ee81",
   "metadata": {},
   "source": [
    "In this program:\n",
    "\n",
    "We define a main() function that contains the main program logic. Inside this function, we intentionally raise an exception for demonstration purposes. In a real-world application, this part would contain your actual program logic.\n",
    "We define a log_exception() function that takes the exception object as an argument. This function configures logging to log messages of level ERROR to both the console and the \"errors.log\" file. It logs the exception type, along with a timestamp.\n",
    "When an exception occurs in the main() function, we call log_exception() to log the exception.\n",
    "The __name__ == \"__main__\" block ensures that the main() function is executed when the script is run directly, but not when it's imported as a module."
   ]
  },
  {
   "cell_type": "code",
   "execution_count": null,
   "id": "b35f888b",
   "metadata": {},
   "outputs": [],
   "source": []
  }
 ],
 "metadata": {
  "kernelspec": {
   "display_name": "Python 3 (ipykernel)",
   "language": "python",
   "name": "python3"
  },
  "language_info": {
   "codemirror_mode": {
    "name": "ipython",
    "version": 3
   },
   "file_extension": ".py",
   "mimetype": "text/x-python",
   "name": "python",
   "nbconvert_exporter": "python",
   "pygments_lexer": "ipython3",
   "version": "3.9.13"
  }
 },
 "nbformat": 4,
 "nbformat_minor": 5
}
