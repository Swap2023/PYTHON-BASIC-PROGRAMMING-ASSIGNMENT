{
 "cells": [
  {
   "cell_type": "markdown",
   "id": "31b73a14",
   "metadata": {},
   "source": [
    "PYTHON BASIC  ASSIGNMENT 10\n",
    "1. What is the role of try and exception block?\n",
    "2. What is the syntax for a basic try-except block?\n",
    "3. What happens if an exception occurs inside a try block and there is no matching\n",
    "except block?\n",
    "4. What is the difference between using a bare except block and specifying a specific\n",
    "exception type?\n",
    "5. Can you have nested try-except blocks in Python? If yes, then give an example.\n",
    "6. Can we use multiple exception blocks, if yes then give an example.\n",
    "7. Write the reason due to which following errors are raised:\n",
    "a. EOFError\n",
    "b. FloatingPointError\n",
    "c. IndexError\n",
    "d. MemoryError\n",
    "e. OverflowError\n",
    "f. TabError\n",
    "g. ValueError\n",
    "8. Write code for the following given scenario and add try-exception block to it.\n",
    "a. Program to divide two numbers\n",
    "b. Program to convert a string to an integer\n",
    "c. Program to access an element in a list\n",
    "d. Program to handle a specific exception\n",
    "e. Program to handle any exception"
   ]
  },
  {
   "cell_type": "markdown",
   "id": "c62801d9",
   "metadata": {},
   "source": [
    "Ans 1:Try Block: The code that might raise an exception is placed inside the try block. This is where you encapsulate the code that you expect might cause an error.\n",
    "\n",
    "Except Block: Following the try block, there can be one or more except blocks. These blocks specify how the program should handle specific types of exceptions. If an exception occurs within the try block, the interpreter looks for an except block that matches the type of exception raised. If a match is found, the code inside the corresponding except block is executed.\n",
    "\n",
    "Finally Block (optional): In some languages like Python, there's also a finally block that can be used after the try-except block. The code inside the finally block is always executed, regardless of whether an exception occurred or not. This block is often used for cleanup tasks such as closing files or releasing resources.\n",
    "    "
   ]
  },
  {
   "cell_type": "code",
   "execution_count": 1,
   "id": "6e06e2e3",
   "metadata": {},
   "outputs": [
    {
     "name": "stdout",
     "output_type": "stream",
     "text": [
      "Enter a number: 44\n",
      "Result: 0.22727272727272727\n",
      "Execution complete.\n"
     ]
    }
   ],
   "source": [
    "try:\n",
    "    # code that might raise an exception\n",
    "    x = int(input(\"Enter a number: \"))\n",
    "    result = 10 / x\n",
    "    print(\"Result:\", result)\n",
    "except ValueError:\n",
    "    print(\"Invalid input. Please enter a valid number.\")\n",
    "except ZeroDivisionError:\n",
    "    print(\"Error: Division by zero.\")\n",
    "finally:\n",
    "    print(\"Execution complete.\")\n"
   ]
  },
  {
   "cell_type": "markdown",
   "id": "d17360e7",
   "metadata": {},
   "source": [
    "try:\n",
    "    # Code that might raise an exception\n",
    "    # ...\n",
    "except:\n",
    "    # Code to handle any exception\n",
    "    # ...\n"
   ]
  },
  {
   "cell_type": "markdown",
   "id": "680bcf4d",
   "metadata": {},
   "source": [
    "try:\n",
    "    # Code that might raise an exception\n",
    "    # ...\n",
    "except:\n",
    "    # Code to handle any exception\n",
    "    # ...\n"
   ]
  },
  {
   "cell_type": "markdown",
   "id": "cfdb2845",
   "metadata": {},
   "source": [
    "try:: This keyword marks the beginning of the try block. The code inside this block is the code that might raise an exception.\n",
    "\n",
    "except SomeExceptionType:: This keyword is used to catch specific exceptions. SomeExceptionType should be replaced with the type of exception you want to catch. If an exception of that type occurs within the try block, the code inside the corresponding except block is executed."
   ]
  },
  {
   "cell_type": "markdown",
   "id": "b8c35519",
   "metadata": {},
   "source": [
    "if you want to catch a ValueError, you would use except ValueError:.\n",
    "\n",
    "You can also have multiple except blocks to handle different types of exceptions:"
   ]
  },
  {
   "cell_type": "markdown",
   "id": "cc471c16",
   "metadata": {},
   "source": [
    "try:\n",
    "    # Code that might raise an exception\n",
    "    # ...\n",
    "except ValueError:\n",
    "    # Code to handle ValueError\n",
    "    # ...\n",
    "except TypeError:\n",
    "    # Code to handle TypeError\n",
    "    # ...\n"
   ]
  },
  {
   "cell_type": "markdown",
   "id": "9147a737",
   "metadata": {},
   "source": [
    "Alternatively, you can catch any type of exception using a generic except block without specifying the exception type:\n",
    "\n",
    "python"
   ]
  },
  {
   "cell_type": "markdown",
   "id": "c93ac9f2",
   "metadata": {},
   "source": [
    "try:\n",
    "    # Code that might raise an exception\n",
    "    # ...\n",
    "except:\n",
    "    # Code to handle any exception\n",
    "    # ...\n"
   ]
  },
  {
   "cell_type": "code",
   "execution_count": null,
   "id": "a0f554b3",
   "metadata": {},
   "outputs": [],
   "source": [
    "Ans 3:\n",
    "If an exception occurs inside a try block in Python and there is no matching except block to handle that exception, \n",
    "\n",
    "the exception propagates up the call stack. Essentially, Python searches for an appropriate exception handler in the \n",
    "enclosing scopes. If it doesn't find one, the program terminates and prints a traceback, which includes information about \n",
    "the type of exception, the line number where it occurred, and the call stack.\n",
    "\n",
    "This behavior is typical in Python's exception handling mechanism. If an exception is unhandled, it will continue \n",
    "propagating up the call stack until it is either caught by an appropriate except block or it reaches the top-level scope, \n",
    "causing the program to terminate.\n",
    "\n"
   ]
  },
  {
   "cell_type": "markdown",
   "id": "06d19669",
   "metadata": {},
   "source": [
    "try:\n",
    "    # Code that might raise an exception\n",
    "    x = 10 / 0  # Division by zero\n",
    "except ValueError:\n",
    "    # This block will not handle the ZeroDivisionError\n",
    "    print(\"This will not be executed.\")\n"
   ]
  },
  {
   "cell_type": "markdown",
   "id": "e9444f68",
   "metadata": {},
   "source": [
    "In this example, a ZeroDivisionError occurs inside the try block, but there is no matching except block to handle it. As a result, the exception will propagate up the call stack, and if not handled anywhere, the program will terminate and print a traceback indicating a ZeroDivisionError."
   ]
  },
  {
   "cell_type": "markdown",
   "id": "ec78a58c",
   "metadata": {},
   "source": [
    "Ans4:n Python, there are two main ways to catch exceptions using except blocks: using a bare except block and specifying a specific exception type.\n",
    "\n",
    "Bare Except Block:\n",
    "\n",
    "python\n"
   ]
  },
  {
   "cell_type": "markdown",
   "id": "8b33aa65",
   "metadata": {},
   "source": [
    "try:\n",
    "    # Code that might raise an exception\n",
    "    # ...\n",
    "except:\n",
    "    # Code to handle any exception\n",
    "    # ...\n"
   ]
  },
  {
   "cell_type": "markdown",
   "id": "7bea637f",
   "metadata": {},
   "source": [
    "When you use a bare except block, without specifying any exception type, it catches all exceptions that occur within the try block. This includes built-in exceptions like ValueError, TypeError, ZeroDivisionError, as well as custom exceptions and even system-exiting exceptions like SystemExit and KeyboardInterrupt."
   ]
  },
  {
   "cell_type": "markdown",
   "id": "c6cda24f",
   "metadata": {},
   "source": [
    "#Specifying Specific Exception Type:\n",
    "try:\n",
    "    # Code that might raise an exception\n",
    "    # ...\n",
    "except SomeExceptionType:\n",
    "    # Code to handle SomeExceptionType\n",
    "    # ...\n"
   ]
  },
  {
   "cell_type": "markdown",
   "id": "a411d9f9",
   "metadata": {},
   "source": [
    "When you specify a specific exception type (e.g., ValueError, TypeError, etc.), the except block only catches exceptions of that particular type or its subclasses. It ignores other types of exceptions that may occur within the try block.\n",
    "\n",
    "Key Differences:\n",
    "\n",
    "Precision: Using specific exception types allows for more precise error handling. It ensures that you handle only the exceptions you expect and know how to handle, making your code more robust and easier to debug.\n",
    "\n",
    "Risk of Masking Errors: Using a bare except block can catch unexpected exceptions that you might not have anticipated. This can potentially mask errors in your code, making it harder to identify and fix issues.\n",
    "\n",
    "Readability: Specifying specific exception types improves the readability of your code by clearly indicating which exceptions you are handling and how you are handling them. This makes the code more understandable to other developers."
   ]
  },
  {
   "cell_type": "markdown",
   "id": "60ec6f06",
   "metadata": {},
   "source": [
    "Ans 5:Yes, you can have nested try-except blocks in Python. This means you can have a try-except block inside another try-except block. This can be useful for handling exceptions at different levels of granularity within your code.\n",
    "\n",
    "Here's an example of nested try-except blocks:"
   ]
  },
  {
   "cell_type": "code",
   "execution_count": 6,
   "id": "fa2a54db",
   "metadata": {},
   "outputs": [
    {
     "name": "stdout",
     "output_type": "stream",
     "text": [
      "Enter a number: 64\n",
      "Result: 0.15625\n"
     ]
    }
   ],
   "source": [
    "try:\n",
    "    # Outer try block\n",
    "    x = int(input(\"Enter a number: \"))\n",
    "    try:\n",
    "        # Inner try block\n",
    "        result = 10 / x\n",
    "        print(\"Result:\", result)\n",
    "    except ZeroDivisionError:\n",
    "        print(\"Error: Division by zero.\")\n",
    "except ValueError:\n",
    "    print(\"Invalid input. Please enter a valid number.\")\n"
   ]
  },
  {
   "cell_type": "markdown",
   "id": "c7371c8e",
   "metadata": {},
   "source": [
    "In this example:\n",
    "\n",
    "The outer try-except block handles any ValueError that might occur when trying to convert the input to an integer.\n",
    "Inside the outer try block, there's an inner try-except block. This inner block handles the possibility of a ZeroDivisionError occurring when attempting the division operation.\n",
    "If a ValueError occurs in the outer try block, it is caught and handled accordingly.\n",
    "If a ZeroDivisionError occurs in the inner try block, it is caught and handled within the inner except block."
   ]
  },
  {
   "cell_type": "markdown",
   "id": "fdcbe297",
   "metadata": {},
   "source": [
    "Ans 6:Yes, you can use multiple except blocks to handle different types of exceptions in Python. This allows you to handle different types of errors that might occur within a single try block. Here's an example:"
   ]
  },
  {
   "cell_type": "code",
   "execution_count": 9,
   "id": "e3ab04af",
   "metadata": {},
   "outputs": [
    {
     "name": "stdout",
     "output_type": "stream",
     "text": [
      "Enter a number: 84\n",
      "Result: 0.11904761904761904\n"
     ]
    }
   ],
   "source": [
    "try:\n",
    "    x = int(input(\"Enter a number: \"))\n",
    "    result = 10 / x\n",
    "    print(\"Result:\", result)\n",
    "except ValueError:\n",
    "    print(\"Invalid input. Please enter a valid number.\")\n",
    "except ZeroDivisionError:\n",
    "    print(\"Error: Division by zero.\")\n",
    "except Exception as e:\n",
    "    print(\"An unexpected error occurred:\", e)\n"
   ]
  },
  {
   "cell_type": "markdown",
   "id": "059fda6c",
   "metadata": {},
   "source": [
    "In this example:\n",
    "\n",
    "The first except block handles a ValueError, which occurs if the user enters something that cannot be converted to an integer.\n",
    "The second except block handles a ZeroDivisionError, which occurs if the user enters 0 as the input, causing division by zero.\n",
    "The third except block catches any other type of exception that might occur. By using Exception as the exception type, it acts as a catch-all for any other exceptions that are not explicitly handled by the previous except blocks. The as e part allows you to access information about the exception that occurred, such as the error message."
   ]
  },
  {
   "cell_type": "markdown",
   "id": "19d6a0d2",
   "metadata": {},
   "source": [
    "Ans 7:\n",
    "a.EOFError: This error occurs when Python's built-in input() function hits an \"end-of-file\" condition without reading any data. It usually happens when the input() function is expecting more input, but the user terminates input (e.g., by pressing Ctrl+D in Unix-based systems or Ctrl+Z in Windows) before providing it.\n",
    "\n",
    "b. FloatingPointError: This error occurs when a floating-point operation (such as division by zero or an operation resulting in a value too large to be represented) fails to produce a valid result within the limitations of the floating-point format.\n",
    "\n",
    "c. IndexError: This error occurs when you try to access an index of a sequence (such as a list, tuple, or string) that is outside the range of valid indices. For example, trying to access the 10th element of a list with only 5 elements will result in an IndexError.\n",
    "\n",
    "d. MemoryError: This error occurs when an operation requires more memory than is available in the system. It typically happens when you try to allocate more memory than the system can provide, such as when working with large data structures or performing memory-intensive operations.\n",
    "\n",
    "e. OverflowError: This error occurs when a mathematical operation exceeds the limits of the numeric type being used. For example, trying to calculate a result that is too large to be represented with the given data type (e.g., an integer overflow).\n",
    "\n",
    "f. TabError: This error occurs when inconsistent use of tabs and spaces is detected in Python code, particularly when mixing tabs and spaces for indentation. Python expects consistent indentation throughout the code, and mixing tabs and spaces can lead to syntax errors.\n",
    "\n",
    "g. ValueError: This error occurs when a built-in operation or function receives an argument of the correct type but with an invalid value. For example, trying to convert a string to an integer using int() when the string does not represent a valid integer will raise a ValueError.\n",
    "\n",
    "\n",
    "\n"
   ]
  },
  {
   "cell_type": "code",
   "execution_count": null,
   "id": "94b02533",
   "metadata": {},
   "outputs": [],
   "source": [
    "Ans 8:"
   ]
  },
  {
   "cell_type": "code",
   "execution_count": 11,
   "id": "f8e31871",
   "metadata": {},
   "outputs": [
    {
     "name": "stdout",
     "output_type": "stream",
     "text": [
      "Enter the numerator: 24\n",
      "Enter the denominator: 2\n",
      "Result of division: 12.0\n"
     ]
    }
   ],
   "source": [
    "#Program to divide two numbers:\n",
    "\n",
    "try:\n",
    "    numerator = float(input(\"Enter the numerator: \"))\n",
    "    denominator = float(input(\"Enter the denominator: \"))\n",
    "    result = numerator / denominator\n",
    "    print(\"Result of division:\", result)\n",
    "except ZeroDivisionError:\n",
    "    print(\"Error: Division by zero is not allowed.\")\n",
    "except ValueError:\n",
    "    print(\"Error: Please enter valid numeric inputs.\")"
   ]
  },
  {
   "cell_type": "code",
   "execution_count": 12,
   "id": "f5554adf",
   "metadata": {},
   "outputs": [
    {
     "name": "stdout",
     "output_type": "stream",
     "text": [
      "Enter a number as a string: swapnil\n",
      "Error: Cannot convert the string to an integer.\n"
     ]
    }
   ],
   "source": [
    "#Program to convert a string to an integer:\n",
    "try:\n",
    "    string_num = input(\"Enter a number as a string: \")\n",
    "    integer_num = int(string_num)\n",
    "    print(\"Converted integer:\", integer_num)\n",
    "except ValueError:\n",
    "    print(\"Error: Cannot convert the string to an integer.\")\n"
   ]
  },
  {
   "cell_type": "code",
   "execution_count": 14,
   "id": "b5707e6c",
   "metadata": {},
   "outputs": [
    {
     "name": "stdout",
     "output_type": "stream",
     "text": [
      "Enter the index to access: 3\n",
      "Value at index 3 : 4\n"
     ]
    }
   ],
   "source": [
    "#Program to access an element in a list:\n",
    "try:\n",
    "    my_list = [1, 2, 3, 4, 5]\n",
    "    index = int(input(\"Enter the index to access: \"))\n",
    "    value = my_list[index]\n",
    "    print(\"Value at index\", index, \":\", value)\n",
    "except IndexError:\n",
    "    print(\"Error: Index out of range.\")\n",
    "except ValueError:\n",
    "    print(\"Error: Please enter a valid integer index.\")\n"
   ]
  },
  {
   "cell_type": "code",
   "execution_count": 15,
   "id": "5897da55",
   "metadata": {},
   "outputs": [],
   "source": [
    "#Program to handle a specific exception:\n",
    "try:\n",
    "    # Code that might raise an exception\n",
    "    x = 10 / 0  # This will raise a ZeroDivisionError\n",
    "except ZeroDivisionError:\n",
    "    print(\"Error: Division by zero is not allowed.\")\n"
   ]
  },
  {
   "cell_type": "code",
   "execution_count": 17,
   "id": "d26ef8ff",
   "metadata": {},
   "outputs": [
    {
     "name": "stdout",
     "output_type": "stream",
     "text": [
      "An error occurred: division by zero\n"
     ]
    }
   ],
   "source": [
    "# Program to handle any exception:\n",
    "try:\n",
    "    # Code that might raise an exception\n",
    "    x = 10 / 0  # This will raise a ZeroDivisionError\n",
    "except Exception as e:\n",
    "    print(\"An error occurred:\", e)\n"
   ]
  },
  {
   "cell_type": "code",
   "execution_count": null,
   "id": "9d658603",
   "metadata": {},
   "outputs": [],
   "source": []
  },
  {
   "cell_type": "code",
   "execution_count": null,
   "id": "315b6674",
   "metadata": {},
   "outputs": [],
   "source": []
  },
  {
   "cell_type": "code",
   "execution_count": null,
   "id": "96b29155",
   "metadata": {},
   "outputs": [],
   "source": []
  },
  {
   "cell_type": "code",
   "execution_count": null,
   "id": "17317b64",
   "metadata": {},
   "outputs": [],
   "source": []
  },
  {
   "cell_type": "code",
   "execution_count": null,
   "id": "717316eb",
   "metadata": {},
   "outputs": [],
   "source": []
  },
  {
   "cell_type": "code",
   "execution_count": null,
   "id": "a2ead2f5",
   "metadata": {},
   "outputs": [],
   "source": []
  },
  {
   "cell_type": "code",
   "execution_count": null,
   "id": "777f1435",
   "metadata": {},
   "outputs": [],
   "source": []
  },
  {
   "cell_type": "code",
   "execution_count": null,
   "id": "6a774a9f",
   "metadata": {},
   "outputs": [],
   "source": []
  },
  {
   "cell_type": "code",
   "execution_count": null,
   "id": "03248749",
   "metadata": {},
   "outputs": [],
   "source": []
  },
  {
   "cell_type": "code",
   "execution_count": null,
   "id": "11230cfc",
   "metadata": {},
   "outputs": [],
   "source": []
  },
  {
   "cell_type": "code",
   "execution_count": null,
   "id": "7af4013a",
   "metadata": {},
   "outputs": [],
   "source": []
  },
  {
   "cell_type": "code",
   "execution_count": null,
   "id": "ae97e5f3",
   "metadata": {},
   "outputs": [],
   "source": []
  },
  {
   "cell_type": "code",
   "execution_count": null,
   "id": "9378ad4c",
   "metadata": {},
   "outputs": [],
   "source": []
  },
  {
   "cell_type": "code",
   "execution_count": null,
   "id": "69aae42a",
   "metadata": {},
   "outputs": [],
   "source": []
  },
  {
   "cell_type": "code",
   "execution_count": null,
   "id": "84baef8a",
   "metadata": {},
   "outputs": [],
   "source": []
  },
  {
   "cell_type": "code",
   "execution_count": null,
   "id": "a0a968df",
   "metadata": {},
   "outputs": [],
   "source": []
  },
  {
   "cell_type": "code",
   "execution_count": null,
   "id": "e8efc2fc",
   "metadata": {},
   "outputs": [],
   "source": []
  },
  {
   "cell_type": "code",
   "execution_count": null,
   "id": "84c0e052",
   "metadata": {},
   "outputs": [],
   "source": []
  },
  {
   "cell_type": "code",
   "execution_count": null,
   "id": "24fecf14",
   "metadata": {},
   "outputs": [],
   "source": []
  }
 ],
 "metadata": {
  "kernelspec": {
   "display_name": "Python 3 (ipykernel)",
   "language": "python",
   "name": "python3"
  },
  "language_info": {
   "codemirror_mode": {
    "name": "ipython",
    "version": 3
   },
   "file_extension": ".py",
   "mimetype": "text/x-python",
   "name": "python",
   "nbconvert_exporter": "python",
   "pygments_lexer": "ipython3",
   "version": "3.9.13"
  }
 },
 "nbformat": 4,
 "nbformat_minor": 5
}
